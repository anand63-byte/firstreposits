{
 "cells": [
  {
   "cell_type": "code",
   "execution_count": 1,
   "id": "c6d201c9-e9c2-4ac0-a846-16fe853d77f1",
   "metadata": {},
   "outputs": [
    {
     "data": {
      "text/plain": [
       "2"
      ]
     },
     "execution_count": 1,
     "metadata": {},
     "output_type": "execute_result"
    }
   ],
   "source": [
    "1+1\n"
   ]
  },
  {
   "cell_type": "code",
   "execution_count": 1,
   "id": "1921028a-b86c-45b4-a928-cc94003e4306",
   "metadata": {},
   "outputs": [
    {
     "data": {
      "text/plain": [
       "225"
      ]
     },
     "execution_count": 1,
     "metadata": {},
     "output_type": "execute_result"
    }
   ],
   "source": [
    "5*45"
   ]
  },
  {
   "cell_type": "code",
   "execution_count": 2,
   "id": "4850c736-1345-496b-81a8-26d6d721881c",
   "metadata": {},
   "outputs": [
    {
     "data": {
      "text/plain": [
       "2.5"
      ]
     },
     "execution_count": 2,
     "metadata": {},
     "output_type": "execute_result"
    }
   ],
   "source": [
    "5/2"
   ]
  },
  {
   "cell_type": "code",
   "execution_count": 1,
   "id": "fe41de14-0170-4f84-8f92-de88ec7203f6",
   "metadata": {},
   "outputs": [
    {
     "data": {
      "text/plain": [
       "512"
      ]
     },
     "execution_count": 1,
     "metadata": {},
     "output_type": "execute_result"
    }
   ],
   "source": [
    "8*8*8"
   ]
  },
  {
   "cell_type": "code",
   "execution_count": 2,
   "id": "25695042-9d74-4322-98ef-55217f354a01",
   "metadata": {},
   "outputs": [],
   "source": [
    "s = \"pwskills\""
   ]
  },
  {
   "cell_type": "code",
   "execution_count": 3,
   "id": "3c1bb044-10b1-43bb-9ffb-b2c3e1fb36d8",
   "metadata": {},
   "outputs": [
    {
     "data": {
      "text/plain": [
       "'pws'"
      ]
     },
     "execution_count": 3,
     "metadata": {},
     "output_type": "execute_result"
    }
   ],
   "source": [
    "s[0:3]"
   ]
  },
  {
   "cell_type": "code",
   "execution_count": 4,
   "id": "4eebd3b4-ef8b-46b6-b59d-1d3b0d7a3add",
   "metadata": {},
   "outputs": [
    {
     "name": "stdout",
     "output_type": "stream",
     "text": [
      "pws\n"
     ]
    }
   ],
   "source": [
    "print(s[0:3])"
   ]
  },
  {
   "cell_type": "code",
   "execution_count": 5,
   "id": "16035483-5d4e-4ee8-9315-304941bd8622",
   "metadata": {},
   "outputs": [
    {
     "data": {
      "text/plain": [
       "'psil'"
      ]
     },
     "execution_count": 5,
     "metadata": {},
     "output_type": "execute_result"
    }
   ],
   "source": [
    "s[0:8:2]"
   ]
  },
  {
   "cell_type": "code",
   "execution_count": 6,
   "id": "278bde1f-2b16-4f2e-a1b5-47edcf9cffe0",
   "metadata": {},
   "outputs": [
    {
     "data": {
      "text/plain": [
       "'psil'"
      ]
     },
     "execution_count": 6,
     "metadata": {},
     "output_type": "execute_result"
    }
   ],
   "source": [
    "s[::2]"
   ]
  },
  {
   "cell_type": "code",
   "execution_count": 7,
   "id": "c0d89da1-381c-486e-bffa-1fcae629ada3",
   "metadata": {},
   "outputs": [
    {
     "data": {
      "text/plain": [
       "''"
      ]
     },
     "execution_count": 7,
     "metadata": {},
     "output_type": "execute_result"
    }
   ],
   "source": [
    "s[2:7:-1]"
   ]
  },
  {
   "cell_type": "code",
   "execution_count": 8,
   "id": "0285e1d1-57fe-465d-a7a2-084701adcae4",
   "metadata": {},
   "outputs": [
    {
     "data": {
      "text/plain": [
       "'sllik'"
      ]
     },
     "execution_count": 8,
     "metadata": {},
     "output_type": "execute_result"
    }
   ],
   "source": [
    "s[7:2:-1]"
   ]
  },
  {
   "cell_type": "code",
   "execution_count": 9,
   "id": "5ebbf6cc-3cc0-4dd1-97c8-12c563bf3ea5",
   "metadata": {},
   "outputs": [
    {
     "data": {
      "text/plain": [
       "'slliksw'"
      ]
     },
     "execution_count": 9,
     "metadata": {},
     "output_type": "execute_result"
    }
   ],
   "source": [
    "s[8:0:-1]"
   ]
  },
  {
   "cell_type": "code",
   "execution_count": 10,
   "id": "f0ec0050-582e-48d1-8570-833f70da31c3",
   "metadata": {},
   "outputs": [
    {
     "data": {
      "text/plain": [
       "'slliksw'"
      ]
     },
     "execution_count": 10,
     "metadata": {},
     "output_type": "execute_result"
    }
   ],
   "source": [
    "s[9:0:-1]"
   ]
  },
  {
   "cell_type": "code",
   "execution_count": 11,
   "id": "043011d8-3e02-4ebf-ba0f-ac0d50f2d264",
   "metadata": {},
   "outputs": [
    {
     "data": {
      "text/plain": [
       "''"
      ]
     },
     "execution_count": 11,
     "metadata": {},
     "output_type": "execute_result"
    }
   ],
   "source": [
    "s[8:-1:-1]"
   ]
  },
  {
   "cell_type": "code",
   "execution_count": 12,
   "id": "92a9e224-b933-4948-a9ae-19ef4b4817a3",
   "metadata": {},
   "outputs": [
    {
     "data": {
      "text/plain": [
       "'slliks'"
      ]
     },
     "execution_count": 12,
     "metadata": {},
     "output_type": "execute_result"
    }
   ],
   "source": [
    "s[8:1:-1]"
   ]
  },
  {
   "cell_type": "code",
   "execution_count": 13,
   "id": "6d55ffd5-5f3d-4ac5-be1b-79d1fc8c706e",
   "metadata": {},
   "outputs": [
    {
     "data": {
      "text/plain": [
       "'lliksw'"
      ]
     },
     "execution_count": 13,
     "metadata": {},
     "output_type": "execute_result"
    }
   ],
   "source": [
    "s[-2:-8:-1]"
   ]
  },
  {
   "cell_type": "code",
   "execution_count": 14,
   "id": "81e2900c-a3bb-47a4-8bd4-3d4030c7148e",
   "metadata": {},
   "outputs": [
    {
     "data": {
      "text/plain": [
       "'llikswp'"
      ]
     },
     "execution_count": 14,
     "metadata": {},
     "output_type": "execute_result"
    }
   ],
   "source": [
    "s[-2::-1]"
   ]
  },
  {
   "cell_type": "code",
   "execution_count": 15,
   "id": "7f0beec1-7a66-4060-b2d0-77c8919b0907",
   "metadata": {},
   "outputs": [
    {
     "data": {
      "text/plain": [
       "''"
      ]
     },
     "execution_count": 15,
     "metadata": {},
     "output_type": "execute_result"
    }
   ],
   "source": [
    "s[:-1:-1]"
   ]
  },
  {
   "cell_type": "code",
   "execution_count": 16,
   "id": "0b59902d-0bd5-4d39-a092-1a191e5d107d",
   "metadata": {},
   "outputs": [
    {
     "data": {
      "text/plain": [
       "'slliks'"
      ]
     },
     "execution_count": 16,
     "metadata": {},
     "output_type": "execute_result"
    }
   ],
   "source": [
    "s[:1:-1]"
   ]
  },
  {
   "cell_type": "code",
   "execution_count": 17,
   "id": "220bc74f-4ae8-442d-bc31-0a80c86aa622",
   "metadata": {},
   "outputs": [
    {
     "data": {
      "text/plain": [
       "'slliksw'"
      ]
     },
     "execution_count": 17,
     "metadata": {},
     "output_type": "execute_result"
    }
   ],
   "source": [
    "s[:0:-1]"
   ]
  },
  {
   "cell_type": "code",
   "execution_count": 1,
   "id": "5ebf7091-8118-40e2-a9b7-de95c752b484",
   "metadata": {},
   "outputs": [],
   "source": [
    "d = {};\n"
   ]
  },
  {
   "cell_type": "code",
   "execution_count": 2,
   "id": "293e436b-0051-4584-935f-c5cb96e2d9c6",
   "metadata": {},
   "outputs": [
    {
     "data": {
      "text/plain": [
       "dict"
      ]
     },
     "execution_count": 2,
     "metadata": {},
     "output_type": "execute_result"
    }
   ],
   "source": [
    "type(d)"
   ]
  },
  {
   "cell_type": "code",
   "execution_count": 3,
   "id": "35179a0a-e9f8-4f2d-8257-9dd1af5eedff",
   "metadata": {},
   "outputs": [],
   "source": [
    "d1 = {'1' : \"anand mishra\"}"
   ]
  },
  {
   "cell_type": "code",
   "execution_count": 4,
   "id": "ab341370-9eea-4f27-a8b2-7083e8e5546f",
   "metadata": {},
   "outputs": [
    {
     "data": {
      "text/plain": [
       "{'1': 'anand mishra'}"
      ]
     },
     "execution_count": 4,
     "metadata": {},
     "output_type": "execute_result"
    }
   ],
   "source": [
    "d1"
   ]
  },
  {
   "cell_type": "code",
   "execution_count": 5,
   "id": "21a12395-621c-4401-9861-773ba2117c77",
   "metadata": {},
   "outputs": [],
   "source": [
    "d2 = {1 : \"anand\" , \"clas\" : \"first\"}"
   ]
  },
  {
   "cell_type": "code",
   "execution_count": 6,
   "id": "7abd8179-eec8-46d8-adbe-d33c6c49564a",
   "metadata": {},
   "outputs": [
    {
     "data": {
      "text/plain": [
       "{1: 'anand', 'clas': 'first'}"
      ]
     },
     "execution_count": 6,
     "metadata": {},
     "output_type": "execute_result"
    }
   ],
   "source": [
    "d2"
   ]
  },
  {
   "cell_type": "code",
   "execution_count": 7,
   "id": "afb84e94-0cd3-4272-a2af-232bbbb47e4d",
   "metadata": {},
   "outputs": [
    {
     "ename": "NameError",
     "evalue": "name 'clas' is not defined",
     "output_type": "error",
     "traceback": [
      "\u001b[1;31m---------------------------------------------------------------------------\u001b[0m",
      "\u001b[1;31mNameError\u001b[0m                                 Traceback (most recent call last)",
      "Cell \u001b[1;32mIn[7], line 1\u001b[0m\n\u001b[1;32m----> 1\u001b[0m d2[\u001b[43mclas\u001b[49m]\n",
      "\u001b[1;31mNameError\u001b[0m: name 'clas' is not defined"
     ]
    }
   ],
   "source": [
    "d2[clas]\n"
   ]
  },
  {
   "cell_type": "code",
   "execution_count": 8,
   "id": "c35ee591-792a-4dac-86fa-da67f48869ba",
   "metadata": {},
   "outputs": [
    {
     "data": {
      "text/plain": [
       "'first'"
      ]
     },
     "execution_count": 8,
     "metadata": {},
     "output_type": "execute_result"
    }
   ],
   "source": [
    "d2[\"clas\"]"
   ]
  },
  {
   "cell_type": "code",
   "execution_count": 10,
   "id": "68a6c166-cb49-49d0-88a7-22afb5155f69",
   "metadata": {},
   "outputs": [],
   "source": [
    "d4 = {'name' : \"anand \" , 'mail' : \"sfs!@.com\" , 'name' : \"anandmishra\"}"
   ]
  },
  {
   "cell_type": "code",
   "execution_count": 11,
   "id": "5901f8eb-93d8-4d2f-8264-99b57fae05f9",
   "metadata": {},
   "outputs": [
    {
     "data": {
      "text/plain": [
       "'anandmishra'"
      ]
     },
     "execution_count": 11,
     "metadata": {},
     "output_type": "execute_result"
    }
   ],
   "source": [
    "d4['name']\n",
    "\n"
   ]
  },
  {
   "cell_type": "code",
   "execution_count": 12,
   "id": "fbd3f092-17ad-4128-9224-160dec7700e9",
   "metadata": {},
   "outputs": [
    {
     "ename": "NameError",
     "evalue": "name 'fsdf' is not defined",
     "output_type": "error",
     "traceback": [
      "\u001b[1;31m---------------------------------------------------------------------------\u001b[0m",
      "\u001b[1;31mNameError\u001b[0m                                 Traceback (most recent call last)",
      "Cell \u001b[1;32mIn[12], line 1\u001b[0m\n\u001b[1;32m----> 1\u001b[0m d5 \u001b[38;5;241m=\u001b[39m {\u001b[38;5;124m\"\u001b[39m\u001b[38;5;124mcomp\u001b[39m\u001b[38;5;124m\"\u001b[39m : \u001b[43mfsdf\u001b[49m}\n",
      "\u001b[1;31mNameError\u001b[0m: name 'fsdf' is not defined"
     ]
    }
   ],
   "source": [
    "d5 = {\"comp\" : fsdf}"
   ]
  },
  {
   "cell_type": "code",
   "execution_count": 13,
   "id": "d91c904e-216b-4777-bcdb-f65e8a9688e6",
   "metadata": {},
   "outputs": [],
   "source": [
    "d5 = {\"comp\" : \"pw\" , \"course\" : [\"ssf\" ,\"sf\" , \"dfd\"]};\n"
   ]
  },
  {
   "cell_type": "code",
   "execution_count": 14,
   "id": "4b308dde-9e59-4e7d-b987-f2b55acbc69d",
   "metadata": {},
   "outputs": [
    {
     "data": {
      "text/plain": [
       "['ssf', 'sf', 'dfd']"
      ]
     },
     "execution_count": 14,
     "metadata": {},
     "output_type": "execute_result"
    }
   ],
   "source": [
    "d5[\"course\"]"
   ]
  },
  {
   "cell_type": "code",
   "execution_count": 15,
   "id": "26f1644e-b519-4e77-a685-8472ad4d5f4c",
   "metadata": {},
   "outputs": [
    {
     "ename": "NameError",
     "evalue": "name 'course' is not defined",
     "output_type": "error",
     "traceback": [
      "\u001b[1;31m---------------------------------------------------------------------------\u001b[0m",
      "\u001b[1;31mNameError\u001b[0m                                 Traceback (most recent call last)",
      "Cell \u001b[1;32mIn[15], line 1\u001b[0m\n\u001b[1;32m----> 1\u001b[0m d5[\u001b[43mcourse\u001b[49m][\u001b[38;5;241m1\u001b[39m]\n",
      "\u001b[1;31mNameError\u001b[0m: name 'course' is not defined"
     ]
    }
   ],
   "source": [
    "d5[course][1]"
   ]
  },
  {
   "cell_type": "code",
   "execution_count": 16,
   "id": "14a1f74e-c98b-4cdf-a159-1e4f1da2c651",
   "metadata": {},
   "outputs": [
    {
     "data": {
      "text/plain": [
       "'sf'"
      ]
     },
     "execution_count": 16,
     "metadata": {},
     "output_type": "execute_result"
    }
   ],
   "source": [
    "d5[\"course\"][1]"
   ]
  },
  {
   "cell_type": "code",
   "execution_count": null,
   "id": "43361e5e-867a-4b16-a0df-607a5dc89270",
   "metadata": {},
   "outputs": [],
   "source": []
  }
 ],
 "metadata": {
  "kernelspec": {
   "display_name": "Python 3 (ipykernel)",
   "language": "python",
   "name": "python3"
  },
  "language_info": {
   "codemirror_mode": {
    "name": "ipython",
    "version": 3
   },
   "file_extension": ".py",
   "mimetype": "text/x-python",
   "name": "python",
   "nbconvert_exporter": "python",
   "pygments_lexer": "ipython3",
   "version": "3.13.0"
  }
 },
 "nbformat": 4,
 "nbformat_minor": 5
}
